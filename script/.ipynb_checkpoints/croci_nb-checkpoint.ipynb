{
 "cells": [
  {
   "cell_type": "code",
   "execution_count": 40,
   "metadata": {},
   "outputs": [],
   "source": [
    "import chart\n",
    "import csv\n",
    "import urllib.request\n",
    "import json\n",
    "import matplotlib.pyplot as plt"
   ]
  },
  {
   "cell_type": "markdown",
   "metadata": {},
   "source": [
    "# First analysis\n",
    "\n",
    "We wanted to make an analysis on the number of citations for the different DOI categories. We have classified the DOI resources into five classes: Journal, Book, Proceedings, Dataset, Other. The citations count are taken from two different sources:\n",
    "\n",
    "1. COCI: those are open citations made available and retrieved from the COCI dataset. In this case the citations are counted through the analysis of all the DOIs (items in the dataset) that have an open reference-list.\n",
    "2. Crossref: the number of citations given by Crossref. In this case the total count includes also citations made from closed resources which do not publish there reference list: closed citations. This value is presented as an attribute for each item in the COCI dataset.\n",
    " \n",
    "**Note:** All the information are included/calculated from the last COCI dataset dump available at the OpenCitations website: http://opencitations.net/download#coci\n",
    "\n",
    "These values are compared in the chart bellow."
   ]
  },
  {
   "cell_type": "code",
   "execution_count": 7,
   "metadata": {},
   "outputs": [],
   "source": [
    "#Prepare the data needed as input to build the chart\n",
    "DOI_TYPES_CSV = \"../data/croci_types.csv\"\n",
    "dict_types = {}\n",
    "with open(DOI_TYPES_CSV,'r') as cocicsv:\n",
    "    cocicsv_reader = csv.DictReader(cocicsv)\n",
    "    for row in cocicsv_reader:\n",
    "        dict_types[row['type']] = {}\n",
    "        dict_types[row['type']]['label'] = row['label']\n",
    "        dict_types[row['type']]['coci_open'] = int(row['coci_open'])\n",
    "        dict_types[row['type']]['crossref_close'] = int(row['crossref_close'])\n",
    "        dict_types[row['type']]['total'] = int(row['crossref_close']) + int(row['coci_open']) \n",
    "\n",
    "types_data = ['journal','book','proceedings','dataset','other']\n",
    "\n",
    "x_data = []\n",
    "for k in types_data:\n",
    "    x_data.append(dict_types[k]['label'])\n",
    "\n",
    "o_in_coci = []\n",
    "for k in types_data:\n",
    "    o_in_coci.append(dict_types[k]['coci_open'])\n",
    "    \n",
    "c_in_crossref = []\n",
    "for k in types_data:\n",
    "    c_in_crossref.append(dict_types[k]['crossref_close'])\n",
    "    \n",
    "data_plot = {\n",
    "     'Open in COCI': {'x': x_data, 'y': o_in_coci },\n",
    "     'Close in Crossref': {'x': x_data, 'y': c_in_crossref }\n",
    "}"
   ]
  },
  {
   "cell_type": "code",
   "execution_count": 11,
   "metadata": {},
   "outputs": [
    {
     "name": "stdout",
     "output_type": "stream",
     "text": [
      "{'Journal': [425772007, 322345327], 'Book': [12658874, 2674915], 'Proceedings': [10196710, 661250], 'Dataset': [33357, 2025], 'Other': [403626, 111019]}\n"
     ]
    },
    {
     "data": {
      "image/png": "[encoded data removed]",
      "text/plain": [
       "<Figure size 1008x576 with 1 Axes>"
      ]
     },
     "metadata": {},
     "output_type": "display_data"
    }
   ],
   "source": [
    "#Call the chart builder and draw it\n",
    "chart.plotBars(data_plot,opt = {'ylabel': 'Number of Citations', 'bar_val':True,'bar_coi':1000000,'bar_suf':'M','bar_pre':''}, sortit= False, logit= True).show()"
   ]
  },
  {
   "cell_type": "markdown",
   "metadata": {},
   "source": [
    "# Second analysis\n",
    "Taken in consideration the same previous sources as a citation count value, we wanted to classify the number of citations for each different publisher. To count the citations we took in consideration the previous sources described in the first analysis: COCI and Crossref. Our processing workflow is described as follow:\n",
    "1.  Firstly, we took as input the COCI dataset and collected all the DOI prefixes we have: the DOI prefix indicates the publisher. \n",
    "2. We used the Crossref API to get the publisher name of each different DOI prefix. e.g: http://api.crossref.org/prefixes/10.3129 \n",
    "3. For each different publisher we counted the number of citations ‘Open in COCI’ and ‘Close in Crossref’ for all its related DOIs\n",
    "\n",
    "**Note:** All the information are included/calculated from the last COCI dataset dump available at the OpenCitations website: http://opencitations.net/download#coci\n"
   ]
  },
  {
   "cell_type": "code",
   "execution_count": null,
   "metadata": {},
   "outputs": [],
   "source": [
    "#BUILD INDEX\n",
    "index_processed = {}\n",
    "with open('../data/publishers_cits.csv','r') as cocicsv:\n",
    "    cocicsv_reader = csv.DictReader(cocicsv)\n",
    "    for row in cocicsv_reader:\n",
    "        index_processed[row['doi_prefix']] = True\n",
    "        \n",
    "        \n",
    "#PROCESS the Stream\n",
    "extended_publishers = []\n",
    "STREAM_BUF = 1000\n",
    "#read all the DOI prefixes we have and ask Crossref for the publisher name\n",
    "with open(\"../data/publishers_stats.csv\",'r') as cocicsv:\n",
    "    cocicsv_reader = csv.DictReader(cocicsv)\n",
    "    for row in cocicsv_reader:\n",
    "        if(row['doi_pref'] not in index_processed):\n",
    "            entry_row = row\n",
    "            if row['name'] == 'nn':\n",
    "                api_call = 'http://api.crossref.org/prefixes/'+row['doi_pref']\n",
    "                try:\n",
    "                    contents = urllib.request.urlopen(api_call).read()\n",
    "                    contents = json.loads(contents)\n",
    "                    entry_row['name'] = contents['message']['name']\n",
    "                    entry_row['crossref_member'] = contents['message']['member']\n",
    "                    #print(api_call, \"::\",contents['message']['name'])\n",
    "                except Exception as e:\n",
    "                    continue\n",
    "            else:\n",
    "                row['name'] = re.search('\\[\\[(.*)\\]\\]', row['name'] ,re.U).group(1)\n",
    "\n",
    "            extended_publishers.append(entry_row)\n",
    "\n",
    "            #publisher,coci_open_cit,crossref_close_cit,total_cit\n",
    "            file_res = open('../data/publishers_cits.csv','a')  \n",
    "            file_res.write('\"'+entry_row['name']+'\",\"'\n",
    "                           + entry_row['doi_pref'] +'\",\"'\n",
    "                           + entry_row['coci_open'] +'\",\"'\n",
    "                           + entry_row['crossref_close'] +'\",\"'\n",
    "                           + str(int(entry_row['coci_open']) + int(entry_row['crossref_close']))\n",
    "                           +'\"\\n')  \n",
    "            file_res.close()\n",
    "\n",
    "            STREAM_BUF -= 1\n",
    "            if STREAM_BUF == 0:\n",
    "                break"
   ]
  },
  {
   "cell_type": "markdown",
   "metadata": {},
   "source": [
    "<img src=\"../data/20publishers_cits.png\" width=\"950\" alt=\"accessibility text\">"
   ]
  },
  {
   "cell_type": "markdown",
   "metadata": {},
   "source": [
    "# Third analysis\n",
    "Here we wanted to generate a .csv file containing the number of: open,limited, and closed, DOI resources having a reference list.  \n",
    "To retrieve such data we used the Crossref API. For instance, the following call retrieves the number of 'closed' items having a reference list and 'Elsevir' as there publisher.   \n",
    "http://api.crossref.org/members/78/works?filter=has-references:true,reference-visibility:closed\n",
    "\n",
    "First of all we need to retrieve the Crossref ‘member’ ID for each DOI-Prefix of a given publisher. Then we will call the previous API call with the corresponding ‘member’ ID and for the three types of reference visibility: open, limited, closed."
   ]
  },
  {
   "cell_type": "code",
   "execution_count": 24,
   "metadata": {},
   "outputs": [],
   "source": [
    "#Get the Crossref 'member' ID value for each DOI prefix to each different publisher\n",
    "PUB_PREFIX_CSV = \"../data/20publishers_prefixes.csv\"\n",
    "dict_prefix = {}\n",
    "with open(PUB_PREFIX_CSV,'r') as cocicsv:\n",
    "    cocicsv_reader = csv.DictReader(cocicsv)\n",
    "    for row in cocicsv_reader:\n",
    "        all_prefixes = row['doi_prefix'].split(',') \n",
    "        dict_prefix[row['publisher']] = {}\n",
    "        dict_prefix[row['publisher']]['doi_prefix'] = all_prefixes\n",
    "        \n",
    "        all_members = []\n",
    "        for doi_p in all_prefixes:\n",
    "            api_call = 'http://api.crossref.org/prefixes/'+str(doi_p)\n",
    "            try:\n",
    "                contents = urllib.request.urlopen(api_call).read()\n",
    "                contents = json.loads(contents)\n",
    "                all_members.append(str(contents['message']['member'].split('/')[-1]))\n",
    "            except Exception as e:\n",
    "                all_members.append('nn')\n",
    "        \n",
    "        dict_prefix[row['publisher']]['member'] = all_members"
   ]
  },
  {
   "cell_type": "code",
   "execution_count": 30,
   "metadata": {},
   "outputs": [],
   "source": [
    "#for each different 'member' ID check the number of: open, limited, and closed, resources. \n",
    "for publisher_k in dict_prefix:\n",
    "    all_members = dict_prefix[publisher_k]['member']\n",
    "    dois_obj = {'open': 0,'limited': 0,'closed': 0}\n",
    "    mem_dois_index = {}\n",
    "    for mem in all_members:\n",
    "        if mem not in mem_dois_index:\n",
    "            api_call = \"http://api.crossref.org/members/\"+mem+\"/works?filter=has-references:true,reference-visibility:\"\n",
    "            for cat in dois_obj:\n",
    "                try:\n",
    "                    contents = urllib.request.urlopen(api_call+cat).read()\n",
    "                    contents = json.loads(contents)\n",
    "                    dois_obj[cat] += contents['message']['total-results']\n",
    "                except Exception as e:\n",
    "                    continue\n",
    "            mem_dois_index[mem] = True\n",
    "    dict_prefix[publisher_k]['value'] = dois_obj\n",
    "    "
   ]
  },
  {
   "cell_type": "code",
   "execution_count": 37,
   "metadata": {},
   "outputs": [],
   "source": [
    "#Generate the .CSV file \n",
    "file_res = open('../data/publishers_ref_dois_crossref.csv','w')  \n",
    "#file_res.write('publisher,doi_prefix,member,open,limited,closed\\n')  \n",
    "file_res.write('publisher,open,limited,closed\\n')\n",
    "file_res.close()\n",
    "\n",
    "for pub in dict_prefix:\n",
    "    file_res = open('../data/publishers_ref_dois_crossref.csv','a')  \n",
    "    entry_row = dict_prefix[pub]\n",
    "    \n",
    "    all_dois_prefix = \"\"\n",
    "    for d in entry_row['doi_prefix']:\n",
    "        all_dois_prefix = all_dois_prefix + d + \",\"\n",
    "    all_dois_prefix = all_dois_prefix[:-1]\n",
    "    \n",
    "    all_mems = \"\"\n",
    "    for d in entry_row['member']:\n",
    "        all_mems = all_mems + d + \",\"\n",
    "    all_mems = all_mems[:-1]\n",
    "    \n",
    "    file_res.write('\"'+pub+'\",\"'\n",
    "                    #+ all_dois_prefix +'\",\"'\n",
    "                    #+ all_mems +'\",\"'\n",
    "                    + str(entry_row['value']['open']) +'\",\"'\n",
    "                    + str(entry_row['value']['limited']) +'\",\"'\n",
    "                    + str(entry_row['value']['closed'])+'\"\\n')  \n",
    "    file_res.close()"
   ]
  },
  {
   "cell_type": "markdown",
   "metadata": {},
   "source": [
    "<img src=\"../data/20publishers_cr.png\" width=\"900\" alt=\"accessibility text\">"
   ]
  },
  {
   "cell_type": "code",
   "execution_count": null,
   "metadata": {},
   "outputs": [],
   "source": []
  }
 ],
 "metadata": {
  "kernelspec": {
   "display_name": "Python 3",
   "language": "python",
   "name": "python3"
  },
  "language_info": {
   "codemirror_mode": {
    "name": "ipython",
    "version": 3
   },
   "file_extension": ".py",
   "mimetype": "text/x-python",
   "name": "python",
   "nbconvert_exporter": "python",
   "pygments_lexer": "ipython3",
   "version": "3.6.5"
  }
 },
 "nbformat": 4,
 "nbformat_minor": 2
}
